{
 "cells": [
  {
   "cell_type": "code",
   "execution_count": 1,
   "metadata": {},
   "outputs": [],
   "source": [
    "from pandas import DataFrame\n",
    "import pandas as pd\n",
    "import os, re"
   ]
  },
  {
   "cell_type": "code",
   "execution_count": 2,
   "metadata": {},
   "outputs": [],
   "source": [
    "import warnings\n",
    "warnings.filterwarnings('ignore')"
   ]
  },
  {
   "cell_type": "code",
   "execution_count": 4,
   "metadata": {},
   "outputs": [
    {
     "ename": "FileNotFoundError",
     "evalue": "[Errno 2] No such file or directory: './data/EMA1.txt'",
     "output_type": "error",
     "traceback": [
      "\u001b[0;31m---------------------------------------------------------------------------\u001b[0m",
      "\u001b[0;31mFileNotFoundError\u001b[0m                         Traceback (most recent call last)",
      "\u001b[0;32m<ipython-input-4-f029e5d31adf>\u001b[0m in \u001b[0;36m<module>\u001b[0;34m()\u001b[0m\n\u001b[0;32m----> 1\u001b[0;31m \u001b[0mdata\u001b[0m \u001b[0;34m=\u001b[0m \u001b[0mopen\u001b[0m\u001b[0;34m(\u001b[0m\u001b[0;34m'./data/EMA1.txt'\u001b[0m\u001b[0;34m,\u001b[0m\u001b[0;34m'r'\u001b[0m\u001b[0;34m)\u001b[0m\u001b[0;34m\u001b[0m\u001b[0m\n\u001b[0m\u001b[1;32m      2\u001b[0m \u001b[0;34m\u001b[0m\u001b[0m\n\u001b[1;32m      3\u001b[0m \u001b[0mdirectory\u001b[0m \u001b[0;34m=\u001b[0m \u001b[0mos\u001b[0m\u001b[0;34m.\u001b[0m\u001b[0mlistdir\u001b[0m\u001b[0;34m(\u001b[0m\u001b[0;34m'./data/EMA1'\u001b[0m\u001b[0;34m)\u001b[0m\u001b[0;34m\u001b[0m\u001b[0m\n\u001b[1;32m      4\u001b[0m \u001b[0mos\u001b[0m\u001b[0;34m.\u001b[0m\u001b[0mchdir\u001b[0m\u001b[0;34m(\u001b[0m\u001b[0;34m'./data/EMA1'\u001b[0m\u001b[0;34m)\u001b[0m\u001b[0;34m\u001b[0m\u001b[0m\n",
      "\u001b[0;31mFileNotFoundError\u001b[0m: [Errno 2] No such file or directory: './data/EMA1.txt'"
     ]
    }
   ],
   "source": [
    "data = open('./data/EMA1.txt','r')\n",
    "\n",
    "directory = os.listdir('./data/EMA1')\n",
    "os.chdir('./data/EMA1')"
   ]
  },
  {
   "cell_type": "code",
   "execution_count": 5,
   "metadata": {},
   "outputs": [
    {
     "ename": "NameError",
     "evalue": "name 'directory' is not defined",
     "output_type": "error",
     "traceback": [
      "\u001b[0;31m---------------------------------------------------------------------------\u001b[0m",
      "\u001b[0;31mNameError\u001b[0m                                 Traceback (most recent call last)",
      "\u001b[0;32m<ipython-input-5-9f8e09a8a2ea>\u001b[0m in \u001b[0;36m<module>\u001b[0;34m()\u001b[0m\n\u001b[0;32m----> 1\u001b[0;31m \u001b[0;32mfor\u001b[0m \u001b[0mfile\u001b[0m \u001b[0;32min\u001b[0m \u001b[0mdirectory\u001b[0m\u001b[0;34m:\u001b[0m\u001b[0;34m\u001b[0m\u001b[0m\n\u001b[0m\u001b[1;32m      2\u001b[0m     \u001b[0mopen_file\u001b[0m \u001b[0;34m=\u001b[0m \u001b[0mopen\u001b[0m\u001b[0;34m(\u001b[0m\u001b[0mfile\u001b[0m\u001b[0;34m,\u001b[0m \u001b[0;34m'r'\u001b[0m\u001b[0;34m)\u001b[0m\u001b[0;34m\u001b[0m\u001b[0m\n\u001b[1;32m      3\u001b[0m     \u001b[0mread_file\u001b[0m \u001b[0;34m=\u001b[0m \u001b[0mopen_file\u001b[0m\u001b[0;34m.\u001b[0m\u001b[0mread\u001b[0m\u001b[0;34m(\u001b[0m\u001b[0;34m)\u001b[0m\u001b[0;34m\u001b[0m\u001b[0m\n\u001b[1;32m      4\u001b[0m     \u001b[0mdf\u001b[0m \u001b[0;34m=\u001b[0m \u001b[0mDataFrame\u001b[0m\u001b[0;34m(\u001b[0m\u001b[0;36m0.0\u001b[0m\u001b[0;34m,\u001b[0m \u001b[0mindex\u001b[0m\u001b[0;34m=\u001b[0m\u001b[0;34m[\u001b[0m\u001b[0;36m1\u001b[0m\u001b[0;34m,\u001b[0m\u001b[0;36m2\u001b[0m\u001b[0;34m,\u001b[0m\u001b[0;36m3\u001b[0m\u001b[0;34m,\u001b[0m\u001b[0;36m4\u001b[0m\u001b[0;34m,\u001b[0m\u001b[0;36m5\u001b[0m\u001b[0;34m,\u001b[0m\u001b[0;36m6\u001b[0m\u001b[0;34m,\u001b[0m\u001b[0;36m7\u001b[0m\u001b[0;34m,\u001b[0m\u001b[0;36m8\u001b[0m\u001b[0;34m,\u001b[0m\u001b[0;36m9\u001b[0m\u001b[0;34m]\u001b[0m\u001b[0;34m,\u001b[0m \u001b[0mcolumns\u001b[0m\u001b[0;34m=\u001b[0m\u001b[0;34m[\u001b[0m\u001b[0;36m1\u001b[0m\u001b[0;34m,\u001b[0m\u001b[0;36m2\u001b[0m\u001b[0;34m,\u001b[0m\u001b[0;36m3\u001b[0m\u001b[0;34m,\u001b[0m\u001b[0;36m4\u001b[0m\u001b[0;34m,\u001b[0m\u001b[0;36m5\u001b[0m\u001b[0;34m,\u001b[0m\u001b[0;36m6\u001b[0m\u001b[0;34m,\u001b[0m\u001b[0;36m7\u001b[0m\u001b[0;34m,\u001b[0m\u001b[0;36m8\u001b[0m\u001b[0;34m,\u001b[0m\u001b[0;36m9\u001b[0m\u001b[0;34m]\u001b[0m\u001b[0;34m)\u001b[0m\u001b[0;34m\u001b[0m\u001b[0m\n\u001b[1;32m      5\u001b[0m     \u001b[0;32mfor\u001b[0m \u001b[0mline\u001b[0m \u001b[0;32min\u001b[0m \u001b[0mf\u001b[0m\u001b[0;34m:\u001b[0m\u001b[0;34m\u001b[0m\u001b[0m\n",
      "\u001b[0;31mNameError\u001b[0m: name 'directory' is not defined"
     ]
    }
   ],
   "source": [
    "for file in directory:\n",
    "    open_file = open(file, 'r')\n",
    "    read_file = open_file.read()\n",
    "    df = DataFrame(0.0, index=[1,2,3,4,5,6,7,8,9], columns=[1,2,3,4,5,6,7,8,9])\n",
    "    for line in f:\n",
    "        data = line.strip().split()\n",
    "        for i in data:\n",
    "            print('{\\n\\t\"\":',data[0],'.',data[1],',\\n\\t\"\":',data[2],',\\n\\t\"\":',data[3],',\\n\\t\"\":',data[4],',\\n\\t\"\":',data[5],',\\n\\t\"\":',data[6],',\\n\\t\"\":',data[7],',\\n\\t\"\":',data[8],',\\n\\t\"\":',data[9],',\\n\\t\"\":',data[10],',\\n\\t\"\":',data[11],',\\n\\t\"\":',data[12],',\\n\\t\"\":',data[13],',\\n\\t\"\":',data[14],',\\n\\t\"\":',data[15],',\\n\\t\"\":',data[16],',\\n\\t\"\":',data[17],',\\n\\t\"\":',data[18],',\\n\\t\"\":',data[19],',\\n\\t\"\":',data[20],',\\n\\t\"\":',data[21],',\\n\\t\"\":',data[22],',\\n\\t\"\":',data[23],',\\n\\t\"\":',data[24],',\\n\\t\"\":',data[25],',\\n\\t\"\":',data[26],',\\n\\t\"\":',data[27],',\\n\\t\"\":',data[28],',\\n\\t\"\":',data[29],',\\n\\t\"\":',data[30],'\\n},')\n",
    "    "
   ]
  },
  {
   "cell_type": "code",
   "execution_count": null,
   "metadata": {},
   "outputs": [],
   "source": [
    "with open('./data/EMA1.txt') as f:\n",
    "    df = DataFrame(0.0, index=[1,2,3,4,5,6,7,8,9], columns=[1,2,3,4,5,6,7,8,9])\n",
    "    for line in f:\n",
    "        data = line.strip().split()\n",
    "        for i in data:\n",
    "            print('{\\n\\t\"\":',data[0],'.',data[1],',\\n\\t\"\":',data[2],',\\n\\t\"\":',data[3],',\\n\\t\"\":',data[4],',\\n\\t\"\":',data[5],',\\n\\t\"\":',data[6],',\\n\\t\"\":',data[7],',\\n\\t\"\":',data[8],',\\n\\t\"\":',data[9],',\\n\\t\"\":',data[10],',\\n\\t\"\":',data[11],',\\n\\t\"\":',data[12],',\\n\\t\"\":',data[13],',\\n\\t\"\":',data[14],',\\n\\t\"\":',data[15],',\\n\\t\"\":',data[16],',\\n\\t\"\":',data[17],',\\n\\t\"\":',data[18],',\\n\\t\"\":',data[19],',\\n\\t\"\":',data[20],',\\n\\t\"\":',data[21],',\\n\\t\"\":',data[22],',\\n\\t\"\":',data[23],',\\n\\t\"\":',data[24],',\\n\\t\"\":',data[25],',\\n\\t\"\":',data[26],',\\n\\t\"\":',data[27],',\\n\\t\"\":',data[28],',\\n\\t\"\":',data[29],',\\n\\t\"\":',data[30],'\\n},')"
   ]
  },
  {
   "cell_type": "code",
   "execution_count": null,
   "metadata": {},
   "outputs": [],
   "source": []
  }
 ],
 "metadata": {
  "kernelspec": {
   "display_name": "Python 3",
   "language": "python",
   "name": "python3"
  },
  "language_info": {
   "codemirror_mode": {
    "name": "ipython",
    "version": 3
   },
   "file_extension": ".py",
   "mimetype": "text/x-python",
   "name": "python",
   "nbconvert_exporter": "python",
   "pygments_lexer": "ipython3",
   "version": "3.6.5"
  }
 },
 "nbformat": 4,
 "nbformat_minor": 2
}
